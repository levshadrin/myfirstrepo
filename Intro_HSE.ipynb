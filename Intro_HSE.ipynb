{
 "cells": [
  {
   "cell_type": "markdown",
   "id": "de42c0df",
   "metadata": {},
   "source": [
    "## Лекция 1"
   ]
  },
  {
   "cell_type": "markdown",
   "id": "77bc818e",
   "metadata": {},
   "source": [
    "**Развлекаемся с функциями `input()` и `print()`**"
   ]
  },
  {
   "cell_type": "code",
   "execution_count": 2,
   "id": "6cd8e6c5",
   "metadata": {},
   "outputs": [
    {
     "name": "stdout",
     "output_type": "stream",
     "text": [
      "Лев\n",
      "Добро пожаловать в DH, Лев\n"
     ]
    }
   ],
   "source": [
    "name = input()\n",
    "print('Добро пожаловать в DH, ' + name)"
   ]
  },
  {
   "cell_type": "code",
   "execution_count": 4,
   "id": "a0dc09e0",
   "metadata": {},
   "outputs": [
    {
     "name": "stdout",
     "output_type": "stream",
     "text": [
      "Введите Ваше имя: Лев\n",
      "Добро пожаловать в DH, Лев\n"
     ]
    }
   ],
   "source": [
    "name = input('Введите Ваше имя: ')\n",
    "print('Добро пожаловать в DH, ' + name)"
   ]
  },
  {
   "cell_type": "code",
   "execution_count": 22,
   "id": "c327e74a",
   "metadata": {
    "scrolled": true
   },
   "outputs": [
    {
     "name": "stdout",
     "output_type": "stream",
     "text": [
      "Введите Ваше имя: Лев\n",
      "Добро пожаловать в DH, Лев\n"
     ]
    }
   ],
   "source": [
    "print('Добро пожаловать в DH, ' + input('Введите Ваше имя: ')) ## одной строкой, в угоду readability"
   ]
  },
  {
   "cell_type": "markdown",
   "id": "04ec6826",
   "metadata": {},
   "source": [
    "**Внезапно, числа!**\n",
    "\n",
    "`int()`\n",
    "`type()`"
   ]
  },
  {
   "cell_type": "code",
   "execution_count": 5,
   "id": "4613e1ff",
   "metadata": {},
   "outputs": [
    {
     "name": "stdout",
     "output_type": "stream",
     "text": [
      "Введите число: 4\n",
      "8\n"
     ]
    }
   ],
   "source": [
    "a = int(input('Введите число: '))\n",
    "print(a * 2)"
   ]
  },
  {
   "cell_type": "markdown",
   "id": "61cfe0d0",
   "metadata": {},
   "source": [
    "**Длина строки:**\n",
    "\n",
    "`len()`"
   ]
  },
  {
   "cell_type": "code",
   "execution_count": 7,
   "id": "288fb6f7",
   "metadata": {
    "scrolled": true
   },
   "outputs": [
    {
     "name": "stdout",
     "output_type": "stream",
     "text": [
      "Введите Ваше имя: Лев\n",
      "3\n"
     ]
    }
   ],
   "source": [
    "user_name = input('Введите Ваше имя: ')\n",
    "print(len(user_name))"
   ]
  },
  {
   "cell_type": "code",
   "execution_count": 36,
   "id": "1ee7f049",
   "metadata": {},
   "outputs": [
    {
     "name": "stdout",
     "output_type": "stream",
     "text": [
      "Введите Ваше имя: Лев\n",
      "Количество букв в Вашем имени: 3\n"
     ]
    }
   ],
   "source": [
    "user_name = input('Введите Ваше имя: ')\n",
    "print('Количество букв в Вашем имени:', len(user_name))"
   ]
  },
  {
   "cell_type": "code",
   "execution_count": 38,
   "id": "c37d0af7",
   "metadata": {},
   "outputs": [
    {
     "name": "stdout",
     "output_type": "stream",
     "text": [
      "Введите Ваше имя: Лев\n",
      "Количество букв в Вашем имени: 3\n"
     ]
    }
   ],
   "source": [
    "user_name = input('Введите Ваше имя: ')  ## альтернативное решение через конкатенацию\n",
    "l = str(len(user_name))\n",
    "print('Количество букв в Вашем имени: ' + l)"
   ]
  },
  {
   "cell_type": "markdown",
   "id": "00146c28",
   "metadata": {},
   "source": [
    "**Методы `str()`**\n",
    "\n",
    "`.upper()`\n",
    "`.lower()`"
   ]
  },
  {
   "cell_type": "code",
   "execution_count": 33,
   "id": "6f838dce",
   "metadata": {},
   "outputs": [
    {
     "name": "stdout",
     "output_type": "stream",
     "text": [
      "ЛЕВ\n"
     ]
    }
   ],
   "source": [
    "print(name.upper())"
   ]
  },
  {
   "cell_type": "code",
   "execution_count": 39,
   "id": "3bad57ad",
   "metadata": {
    "scrolled": true
   },
   "outputs": [
    {
     "name": "stdout",
     "output_type": "stream",
     "text": [
      "Укажите фамилию президента, который был у власти при Вашем рождении: Ельцин\n",
      "Укажите фамилию нынешнего президента: Путин\n",
      "False\n"
     ]
    }
   ],
   "source": [
    "pres_born = input('Укажите фамилию президента, который был у власти при Вашем рождении: ')\n",
    "pres_living = input('Укажите фамилию нынешнего президента: ')\n",
    "print(pres_born == pres_living)"
   ]
  },
  {
   "cell_type": "markdown",
   "id": "78027f4b",
   "metadata": {},
   "source": [
    "**Строки**"
   ]
  },
  {
   "cell_type": "code",
   "execution_count": 26,
   "id": "09061d5f",
   "metadata": {
    "scrolled": true
   },
   "outputs": [
    {
     "name": "stdout",
     "output_type": "stream",
     "text": [
      "Введите число: 463\n",
      "За числом 463 следует число 464\n",
      "Числу 463 предшествует число 462\n"
     ]
    }
   ],
   "source": [
    "num = int(input('Введите число: '))\n",
    "num_1 = str(num + 1)\n",
    "num_2 = str(num - 1)\n",
    "num_str = str(num)\n",
    "print('За числом ' + num_str + ' следует число ' + num_1)\n",
    "print('Числу ' + num_str + ' предшествует число ' + num_2)"
   ]
  },
  {
   "cell_type": "markdown",
   "id": "6a6c905f",
   "metadata": {},
   "source": [
    "### Домашнее задание:\n",
    "\n",
    "\"Нужно написать программу, которая демонстрирует один простой математический фокус. \n",
    "\n",
    "В начале работы программа должна объявить пользователю, что какое бы число он ни ввёл, ряд арифметических операций превратит в конце это число в 4. Затем нужно запросить у пользователя число, умножить его на 2, прибавить к результату 8, разделить результат на 2, отнять задуманное число. \n",
    "\n",
    "Каждый этап нужно выводить на экран так, чтобы они были прозрачны для пользователя (напр, “Число 5 умноженное на 4 равно 20”).\n",
    "\n",
    "Разумеется, финальный результат тоже нужно показать на экране.\""
   ]
  },
  {
   "cell_type": "markdown",
   "id": "8f21c70d",
   "metadata": {},
   "source": [
    "**Решим задачу**, опираясь исключительно на рассмотренные на лекции инструменты: функции `input(), print()`, типы переменных, и конкатенацию строк:"
   ]
  },
  {
   "cell_type": "code",
   "execution_count": 31,
   "id": "c3a2f73f",
   "metadata": {
    "scrolled": true
   },
   "outputs": [
    {
     "name": "stdout",
     "output_type": "stream",
     "text": [
      "Код превратит введённое число в 4! Введите любое целое число: 3452345\n",
      "Умножим число 3452345 на 2, получим 6904690\n",
      "К числу 6904690 прибавим 8, получим 6904698\n",
      "Разделим число 6904698 пополам, получим 3452349\n",
      "Вычтем из числа 3452349 введённое число, получим 4\n"
     ]
    }
   ],
   "source": [
    "m = int(input('Код превратит введённое число в 4! Введите любое целое число: '))\n",
    "m_str = str(m)\n",
    "m_1 = str(m * 2)\n",
    "print('Умножим число ' + m_str + ' на 2, получим ' + m_1)\n",
    "m_2 = str(m * 2 + 8)\n",
    "print('К числу ' + m_1 + ' прибавим 8, получим ' + m_2)\n",
    "m_3 = str((m * 2 + 8) // 2)\n",
    "print('Разделим число ' + m_2 + ' пополам, получим ' + m_3)\n",
    "m_4 = str((m * 2 + 8) // 2 - m)\n",
    "print('Вычтем из числа ' + m_3 + ' введённое число, получим ' + m_4)"
   ]
  },
  {
   "cell_type": "markdown",
   "id": "e1d2d41c",
   "metadata": {},
   "source": [
    " **Код ревью:**\n",
    " \n",
    " * в коде лишь одна числовая переменная m, введённая пользователем -> мы можем использовать только её для вычеслений\n",
    "     * подозреваю, что это плохо, поскольку делает код более ресурсоёмким\n",
    "     * код выполняет лишние повторные вычесления \n",
    " * остальные переменные переведены в строки для конкатенации в выводе\n",
    " * если бы не было условия выводить результат каждой операции, то все операции можно было бы оформить одной строкой: \n",
    "        m = int(input('Код превратит введённое число в 4! Введите любое целое число: '))\n",
    "        m = (m * 2 + 8) // 2 - m\n",
    "        print(m)"
   ]
  },
  {
   "cell_type": "markdown",
   "id": "0c89e355",
   "metadata": {},
   "source": [
    "**Что делать?** \n",
    "\n",
    "Поиграем с методом .format()"
   ]
  },
  {
   "cell_type": "code",
   "execution_count": 32,
   "id": "6ed083c1",
   "metadata": {},
   "outputs": [
    {
     "name": "stdout",
     "output_type": "stream",
     "text": [
      "Код превратит введённое число в 4! Введите любое целое число: 3452\n",
      "Умножим 3452 на 2, получим 6904\n",
      "К числу 6904 прибавим 8, получим 6912\n",
      "Разделим 6912 на 2, получим 3456\n",
      "Вычтем из 3456 введённое число, получим 4\n"
     ]
    }
   ],
   "source": [
    "m = int(input('Код превратит введённое число в 4! Введите любое целое число: '))\n",
    "m_1 = m * 2\n",
    "print('Умножим {} на 2, получим {}'.format(m,m_1))\n",
    "m_2 = m_1 + 8\n",
    "print('К числу {} прибавим 8, получим {}'.format(m_1,m_2))\n",
    "m_3 = m_2 // 2\n",
    "print('Разделим {} на 2, получим {}'.format(m_2,m_3))\n",
    "m_4 = m_3 - m\n",
    "print('Вычтем из {} введённое число, получим {}'.format(m_3,m_4))"
   ]
  },
  {
   "cell_type": "markdown",
   "id": "34c229f1",
   "metadata": {},
   "source": [
    "Обошлись без строковых переменных, но выполнили условия пошагового вывода."
   ]
  },
  {
   "cell_type": "markdown",
   "id": "f96b0e13",
   "metadata": {},
   "source": [
    "Прочитал про **f-strings**, давай попробуем!"
   ]
  },
  {
   "cell_type": "code",
   "execution_count": 17,
   "id": "ac51e973",
   "metadata": {},
   "outputs": [
    {
     "name": "stdout",
     "output_type": "stream",
     "text": [
      "Код превратит введённое число в 4! Введите любое целое число: 345\n",
      "Умножим 345 на 2, получим 690\n",
      "К числу 345 прибавим 8, получим 353\n"
     ]
    }
   ],
   "source": [
    "m = int(input('Код превратит введённое число в 4! Введите любое целое число: '))\n",
    "print(f'Умножим {m} на 2, получим {m * 2}') ## более читаемо и элегантно чем .format()\n",
    "print(f'К числу {m} прибавим 8, получим {m + 8}')"
   ]
  },
  {
   "cell_type": "markdown",
   "id": "4efca866",
   "metadata": {},
   "source": [
    "Но если задуматься, нам ведь не нужны все промежуточные переменные (m_1, m_2, etc.) - можем ли мы обновлять значение в одной переменной?"
   ]
  }
 ],
 "metadata": {
  "kernelspec": {
   "display_name": "Python 3 (ipykernel)",
   "language": "python",
   "name": "python3"
  },
  "language_info": {
   "codemirror_mode": {
    "name": "ipython",
    "version": 3
   },
   "file_extension": ".py",
   "mimetype": "text/x-python",
   "name": "python",
   "nbconvert_exporter": "python",
   "pygments_lexer": "ipython3",
   "version": "3.9.7"
  }
 },
 "nbformat": 4,
 "nbformat_minor": 5
}
